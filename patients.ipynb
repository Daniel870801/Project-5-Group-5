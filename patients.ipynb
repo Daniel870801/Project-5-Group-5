{
 "cells": [
  {
   "cell_type": "code",
   "execution_count": 28,
   "id": "38e74db1",
   "metadata": {},
   "outputs": [],
   "source": [
    "import pandas as pd\n",
    "import numpy as np\n",
    "import streamlit as st\n",
    "import matplotlib.pyplot as plt\n",
    "\n"
   ]
  },
  {
   "cell_type": "code",
   "execution_count": 30,
   "id": "b6b812dd",
   "metadata": {},
   "outputs": [],
   "source": [
    "patients=pd.read_csv(r'C:\\Users\\lenovo\\Desktop\\ironhack\\Labs\\DAFT_212\\module_2\\Project_Week_5\\patients.csv')\n",
    "\n",
    "#first let's get a better understanding of the dataset\n",
    "description=patients.describe().transpose()\n",
    "\n",
    "#['ethnicity', 'gender', 'icu_admit_source', 'icu_stay_type', 'icu_type', 'apache_3j_bodysystem', 'apache_2_bodysystem']"
   ]
  },
  {
   "cell_type": "code",
   "execution_count": 31,
   "id": "23f30047",
   "metadata": {},
   "outputs": [
    {
     "data": {
      "text/plain": [
       "Index(['ethnicity', 'gender', 'icu_admit_source', 'icu_stay_type', 'icu_type',\n",
       "       'apache_3j_bodysystem', 'apache_2_bodysystem', 'group_age',\n",
       "       'bmi_classification'],\n",
       "      dtype='object')"
      ]
     },
     "execution_count": 31,
     "metadata": {},
     "output_type": "execute_result"
    }
   ],
   "source": [
    "patients.select_dtypes(include='object').columns"
   ]
  },
  {
   "cell_type": "code",
   "execution_count": 32,
   "id": "50d0691a",
   "metadata": {},
   "outputs": [],
   "source": [
    "patients.dropna(axis=0,how=\"all\",inplace=True)"
   ]
  },
  {
   "cell_type": "code",
   "execution_count": 33,
   "id": "2ed5a0ad",
   "metadata": {},
   "outputs": [],
   "source": [
    "ethnicity=patients[['ethnicity','patient_id','hospital_death']].groupby('ethnicity').agg({'patient_id':'count','hospital_death':'sum'})"
   ]
  },
  {
   "cell_type": "code",
   "execution_count": 34,
   "id": "7b019e7d",
   "metadata": {},
   "outputs": [],
   "source": [
    "ethnicity['survival_rate']=(ethnicity['patient_id']-ethnicity['hospital_death'])/ethnicity['patient_id']"
   ]
  },
  {
   "cell_type": "code",
   "execution_count": 35,
   "id": "22a7f845",
   "metadata": {},
   "outputs": [
    {
     "data": {
      "text/plain": [
       "Index(['Unnamed: 0', 'encounter_id', 'patient_id', 'hospital_id', 'age', 'bmi',\n",
       "       'elective_surgery', 'ethnicity', 'gender', 'height', 'icu_admit_source',\n",
       "       'icu_id', 'icu_stay_type', 'icu_type', 'pre_icu_los_days', 'weight',\n",
       "       'apache_2_diagnosis', 'apache_3j_diagnosis', 'apache_post_operative',\n",
       "       'arf_apache', 'gcs_eyes_apache', 'gcs_motor_apache',\n",
       "       'gcs_unable_apache', 'gcs_verbal_apache', 'heart_rate_apache',\n",
       "       'intubated_apache', 'map_apache', 'resprate_apache', 'temp_apache',\n",
       "       'ventilated_apache', 'd1_diasbp_max', 'd1_diasbp_min',\n",
       "       'd1_diasbp_noninvasive_max', 'd1_diasbp_noninvasive_min',\n",
       "       'd1_heartrate_max', 'd1_heartrate_min', 'd1_mbp_max', 'd1_mbp_min',\n",
       "       'd1_mbp_noninvasive_max', 'd1_mbp_noninvasive_min', 'd1_resprate_max',\n",
       "       'd1_resprate_min', 'd1_spo2_max', 'd1_spo2_min', 'd1_sysbp_max',\n",
       "       'd1_sysbp_min', 'd1_sysbp_noninvasive_max', 'd1_sysbp_noninvasive_min',\n",
       "       'd1_temp_max', 'd1_temp_min', 'h1_diasbp_max', 'h1_diasbp_min',\n",
       "       'h1_diasbp_noninvasive_max', 'h1_diasbp_noninvasive_min',\n",
       "       'h1_heartrate_max', 'h1_heartrate_min', 'h1_mbp_max', 'h1_mbp_min',\n",
       "       'h1_mbp_noninvasive_max', 'h1_mbp_noninvasive_min', 'h1_resprate_max',\n",
       "       'h1_resprate_min', 'h1_spo2_max', 'h1_spo2_min', 'h1_sysbp_max',\n",
       "       'h1_sysbp_min', 'h1_sysbp_noninvasive_max', 'h1_sysbp_noninvasive_min',\n",
       "       'd1_glucose_max', 'd1_glucose_min', 'd1_potassium_max',\n",
       "       'd1_potassium_min', 'apache_4a_hospital_death_prob',\n",
       "       'apache_4a_icu_death_prob', 'aids', 'cirrhosis', 'diabetes_mellitus',\n",
       "       'hepatic_failure', 'immunosuppression', 'leukemia', 'lymphoma',\n",
       "       'solid_tumor_with_metastasis', 'apache_3j_bodysystem',\n",
       "       'apache_2_bodysystem', 'hospital_death', 'survival', 'group_age',\n",
       "       'bmi_classification'],\n",
       "      dtype='object')"
      ]
     },
     "execution_count": 35,
     "metadata": {},
     "output_type": "execute_result"
    }
   ],
   "source": [
    "patients.columns"
   ]
  },
  {
   "cell_type": "code",
   "execution_count": 36,
   "id": "0493c873",
   "metadata": {},
   "outputs": [],
   "source": [
    "apache3=patients[['apache_3j_bodysystem','patient_id','hospital_death']].groupby('apache_3j_bodysystem').agg({'patient_id':'count','hospital_death':'sum'})"
   ]
  },
  {
   "cell_type": "code",
   "execution_count": 37,
   "id": "dc3e5f88",
   "metadata": {},
   "outputs": [
    {
     "data": {
      "text/html": [
       "<div>\n",
       "<style scoped>\n",
       "    .dataframe tbody tr th:only-of-type {\n",
       "        vertical-align: middle;\n",
       "    }\n",
       "\n",
       "    .dataframe tbody tr th {\n",
       "        vertical-align: top;\n",
       "    }\n",
       "\n",
       "    .dataframe thead th {\n",
       "        text-align: right;\n",
       "    }\n",
       "</style>\n",
       "<table border=\"1\" class=\"dataframe\">\n",
       "  <thead>\n",
       "    <tr style=\"text-align: right;\">\n",
       "      <th></th>\n",
       "      <th>patient_id</th>\n",
       "      <th>hospital_death</th>\n",
       "    </tr>\n",
       "    <tr>\n",
       "      <th>apache_3j_bodysystem</th>\n",
       "      <th></th>\n",
       "      <th></th>\n",
       "    </tr>\n",
       "  </thead>\n",
       "  <tbody>\n",
       "    <tr>\n",
       "      <th>Cardiovascular</th>\n",
       "      <td>27829</td>\n",
       "      <td>2114</td>\n",
       "    </tr>\n",
       "    <tr>\n",
       "      <th>Gastrointestinal</th>\n",
       "      <td>8259</td>\n",
       "      <td>589</td>\n",
       "    </tr>\n",
       "    <tr>\n",
       "      <th>Genitourinary</th>\n",
       "      <td>2024</td>\n",
       "      <td>119</td>\n",
       "    </tr>\n",
       "    <tr>\n",
       "      <th>Gynecological</th>\n",
       "      <td>299</td>\n",
       "      <td>2</td>\n",
       "    </tr>\n",
       "    <tr>\n",
       "      <th>Hematological</th>\n",
       "      <td>594</td>\n",
       "      <td>55</td>\n",
       "    </tr>\n",
       "    <tr>\n",
       "      <th>Metabolic</th>\n",
       "      <td>7252</td>\n",
       "      <td>111</td>\n",
       "    </tr>\n",
       "    <tr>\n",
       "      <th>Musculoskeletal/Skin</th>\n",
       "      <td>1065</td>\n",
       "      <td>45</td>\n",
       "    </tr>\n",
       "    <tr>\n",
       "      <th>Neurological</th>\n",
       "      <td>10990</td>\n",
       "      <td>835</td>\n",
       "    </tr>\n",
       "    <tr>\n",
       "      <th>Respiratory</th>\n",
       "      <td>10869</td>\n",
       "      <td>1181</td>\n",
       "    </tr>\n",
       "    <tr>\n",
       "      <th>Sepsis</th>\n",
       "      <td>10733</td>\n",
       "      <td>1641</td>\n",
       "    </tr>\n",
       "    <tr>\n",
       "      <th>Trauma</th>\n",
       "      <td>3446</td>\n",
       "      <td>212</td>\n",
       "    </tr>\n",
       "  </tbody>\n",
       "</table>\n",
       "</div>"
      ],
      "text/plain": [
       "                      patient_id  hospital_death\n",
       "apache_3j_bodysystem                            \n",
       "Cardiovascular             27829            2114\n",
       "Gastrointestinal            8259             589\n",
       "Genitourinary               2024             119\n",
       "Gynecological                299               2\n",
       "Hematological                594              55\n",
       "Metabolic                   7252             111\n",
       "Musculoskeletal/Skin        1065              45\n",
       "Neurological               10990             835\n",
       "Respiratory                10869            1181\n",
       "Sepsis                     10733            1641\n",
       "Trauma                      3446             212"
      ]
     },
     "execution_count": 37,
     "metadata": {},
     "output_type": "execute_result"
    }
   ],
   "source": [
    "apache3"
   ]
  },
  {
   "cell_type": "code",
   "execution_count": 38,
   "id": "0598ceb5",
   "metadata": {},
   "outputs": [],
   "source": [
    "apache3['survival_rate']=(apache3['patient_id']-apache3['hospital_death'])/apache3['patient_id']"
   ]
  },
  {
   "cell_type": "code",
   "execution_count": 39,
   "id": "a797a6cf",
   "metadata": {},
   "outputs": [
    {
     "data": {
      "text/html": [
       "<div>\n",
       "<style scoped>\n",
       "    .dataframe tbody tr th:only-of-type {\n",
       "        vertical-align: middle;\n",
       "    }\n",
       "\n",
       "    .dataframe tbody tr th {\n",
       "        vertical-align: top;\n",
       "    }\n",
       "\n",
       "    .dataframe thead th {\n",
       "        text-align: right;\n",
       "    }\n",
       "</style>\n",
       "<table border=\"1\" class=\"dataframe\">\n",
       "  <thead>\n",
       "    <tr style=\"text-align: right;\">\n",
       "      <th></th>\n",
       "      <th>patient_id</th>\n",
       "      <th>hospital_death</th>\n",
       "      <th>survival_rate</th>\n",
       "    </tr>\n",
       "    <tr>\n",
       "      <th>apache_3j_bodysystem</th>\n",
       "      <th></th>\n",
       "      <th></th>\n",
       "      <th></th>\n",
       "    </tr>\n",
       "  </thead>\n",
       "  <tbody>\n",
       "    <tr>\n",
       "      <th>Cardiovascular</th>\n",
       "      <td>27829</td>\n",
       "      <td>2114</td>\n",
       "      <td>0.924036</td>\n",
       "    </tr>\n",
       "    <tr>\n",
       "      <th>Gastrointestinal</th>\n",
       "      <td>8259</td>\n",
       "      <td>589</td>\n",
       "      <td>0.928684</td>\n",
       "    </tr>\n",
       "    <tr>\n",
       "      <th>Genitourinary</th>\n",
       "      <td>2024</td>\n",
       "      <td>119</td>\n",
       "      <td>0.941206</td>\n",
       "    </tr>\n",
       "    <tr>\n",
       "      <th>Gynecological</th>\n",
       "      <td>299</td>\n",
       "      <td>2</td>\n",
       "      <td>0.993311</td>\n",
       "    </tr>\n",
       "    <tr>\n",
       "      <th>Hematological</th>\n",
       "      <td>594</td>\n",
       "      <td>55</td>\n",
       "      <td>0.907407</td>\n",
       "    </tr>\n",
       "    <tr>\n",
       "      <th>Metabolic</th>\n",
       "      <td>7252</td>\n",
       "      <td>111</td>\n",
       "      <td>0.984694</td>\n",
       "    </tr>\n",
       "    <tr>\n",
       "      <th>Musculoskeletal/Skin</th>\n",
       "      <td>1065</td>\n",
       "      <td>45</td>\n",
       "      <td>0.957746</td>\n",
       "    </tr>\n",
       "    <tr>\n",
       "      <th>Neurological</th>\n",
       "      <td>10990</td>\n",
       "      <td>835</td>\n",
       "      <td>0.924022</td>\n",
       "    </tr>\n",
       "    <tr>\n",
       "      <th>Respiratory</th>\n",
       "      <td>10869</td>\n",
       "      <td>1181</td>\n",
       "      <td>0.891342</td>\n",
       "    </tr>\n",
       "    <tr>\n",
       "      <th>Sepsis</th>\n",
       "      <td>10733</td>\n",
       "      <td>1641</td>\n",
       "      <td>0.847107</td>\n",
       "    </tr>\n",
       "    <tr>\n",
       "      <th>Trauma</th>\n",
       "      <td>3446</td>\n",
       "      <td>212</td>\n",
       "      <td>0.938479</td>\n",
       "    </tr>\n",
       "  </tbody>\n",
       "</table>\n",
       "</div>"
      ],
      "text/plain": [
       "                      patient_id  hospital_death  survival_rate\n",
       "apache_3j_bodysystem                                           \n",
       "Cardiovascular             27829            2114       0.924036\n",
       "Gastrointestinal            8259             589       0.928684\n",
       "Genitourinary               2024             119       0.941206\n",
       "Gynecological                299               2       0.993311\n",
       "Hematological                594              55       0.907407\n",
       "Metabolic                   7252             111       0.984694\n",
       "Musculoskeletal/Skin        1065              45       0.957746\n",
       "Neurological               10990             835       0.924022\n",
       "Respiratory                10869            1181       0.891342\n",
       "Sepsis                     10733            1641       0.847107\n",
       "Trauma                      3446             212       0.938479"
      ]
     },
     "execution_count": 39,
     "metadata": {},
     "output_type": "execute_result"
    }
   ],
   "source": [
    "apache3"
   ]
  },
  {
   "cell_type": "code",
   "execution_count": 40,
   "id": "254f7f81",
   "metadata": {},
   "outputs": [],
   "source": [
    "apache3_hospital=patients[['apache_3j_bodysystem','hospital_id']].groupby('apache_3j_bodysystem').agg({'hospital_id':'count'})"
   ]
  },
  {
   "cell_type": "code",
   "execution_count": 41,
   "id": "cbd128fc",
   "metadata": {},
   "outputs": [],
   "source": [
    "apache3_hospital.sort_values(by=\"hospital_id\",inplace=True)"
   ]
  },
  {
   "cell_type": "code",
   "execution_count": null,
   "id": "03b080d2",
   "metadata": {},
   "outputs": [],
   "source": []
  },
  {
   "cell_type": "code",
   "execution_count": null,
   "id": "afb6d3b2",
   "metadata": {},
   "outputs": [],
   "source": []
  },
  {
   "cell_type": "code",
   "execution_count": null,
   "id": "340ca718",
   "metadata": {},
   "outputs": [],
   "source": []
  }
 ],
 "metadata": {
  "kernelspec": {
   "display_name": "Python 3",
   "language": "python",
   "name": "python3"
  },
  "language_info": {
   "codemirror_mode": {
    "name": "ipython",
    "version": 3
   },
   "file_extension": ".py",
   "mimetype": "text/x-python",
   "name": "python",
   "nbconvert_exporter": "python",
   "pygments_lexer": "ipython3",
   "version": "3.8.8"
  }
 },
 "nbformat": 4,
 "nbformat_minor": 5
}
